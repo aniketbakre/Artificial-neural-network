{
 "cells": [
  {
   "cell_type": "code",
   "execution_count": null,
   "metadata": {},
   "outputs": [],
   "source": [
    "from tensorflow.keras import backend as K\n",
    "from tensorflow.keras.models import Sequential\n",
    "from tensorflow.keras.layers import Conv2D, Activation, MaxPooling2D, Flatten, Dense, Dropout\n",
    "from tensorflow.keras.preprocessing.image import ImageDataGenerator, load_img\n",
    "\n",
    "# Set image dimensions and channels\n",
    "img_width, img_height = 224, 224\n",
    "input_shape = (img_width, img_height, 3)\n",
    "\n",
    "# Create CNN model\n",
    "model = Sequential()\n",
    
    "model.add(Conv2D(32, (2,2), input_shape=input_shape))\n",
    "model.add(Activation('relu'))\n",
    "model.add(MaxPooling2D(pool_size=(2,2)))\n",
    
    "model.add(Conv2D(32, (2,2)))\n",
    "model.add(Activation('relu'))\n",
    "model.add(MaxPooling2D(pool_size=(2,2)))\n",
    
    "model.add(Conv2D(64, (2,2)))\n",
    "model.add(Activation('relu'))\n",
    "model.add(MaxPooling2D(pool_size=(2,2)))\n",
    
    "model.add(Flatten())\n",
    
    "model.add(Dense(64))\n",
    "model.add(Activation('relu'))\n",
    "model.add(Dropout(0.5))\n",
    
    "model.add(Dense(1))\n",
    "model.add(Activation('sigmoid'))\n",
    "\n",
    "# Compile model\n",
    "model.compile(loss='binary_crossentropy', optimizer='adam', metrics=['accuracy'])\n",
    "\n",
    "# Set data directories\n",
    "train_data_dir = 'v_data/train'\n",
    "test_data_dir = 'v_data/test'\n",
    "\n",
    "# Load data using ImageDataGenerator\n",
    "train_datagen = ImageDataGenerator()\n",
    "test_datagen = ImageDataGenerator()\n",
    "\n",
    "train_generator = train_datagen.flow_from_directory(\n",
    "        train_data_dir,\n",
    "        target_size=(img_width, img_height),\n",
    "        batch_size=16,\n",
    "        class_mode='binary')\n",
    "\n",
    "test_generator = test_datagen.flow_from_directory(\n",
    "        test_data_dir,\n",
    "        target_size=(img_width, img_height),\n",
    "        batch_size=16,\n",
    "        class_mode='binary')\n",
    "\n",
    "# Train model\n",
    "model.fit_generator(\n",
    "        train_generator,\n",
    "        steps_per_epoch=400 // 16,\n",
    "        epochs=3,\n",
    "        validation_data=test_generator,\n",
    "        validation_steps=100 // 16)\n",
    "\n",
    "# Load sample image and predict label\n",
    "img = load_img('v_data/train/PLANES/26.jpg', target_size=(img_width, img_height))\n",
    "img_arr = np.array(img)\n",
    "img_arr = img_arr.reshape(1, img_width, img_height, 3)\n",
    "label = model.predict(img_arr)[0][0]\n",
    "\n",
    "# Print predicted label\n",
    "if label >= 0.5:\n",
    "    print(\"PLANE\")\n",
    "else:\n",
    "    print(\"CAR\")\n"
   ]
  }
 ],
 "metadata": {
  "language_info": {
   "name": "python"
  },
  "orig_nbformat": 4
 },
 "nbformat": 4,
 "nbformat_minor": 2
}
